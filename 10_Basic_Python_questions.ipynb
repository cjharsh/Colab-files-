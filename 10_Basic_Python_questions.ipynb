{
  "nbformat": 4,
  "nbformat_minor": 0,
  "metadata": {
    "kernelspec": {
      "display_name": "Python 3",
      "language": "python",
      "name": "python3"
    },
    "language_info": {
      "codemirror_mode": {
        "name": "ipython",
        "version": 3
      },
      "file_extension": ".py",
      "mimetype": "text/x-python",
      "name": "python",
      "nbconvert_exporter": "python",
      "pygments_lexer": "ipython3",
      "version": "3.7.2"
    },
    "colab": {
      "name": "10 Basic Python questions.ipynb",
      "version": "0.3.2",
      "provenance": [],
      "include_colab_link": true
    }
  },
  "cells": [
    {
      "cell_type": "markdown",
      "metadata": {
        "id": "view-in-github",
        "colab_type": "text"
      },
      "source": [
        "<a href=\"https://colab.research.google.com/github/cjharsh/Colab-files-/blob/master/10_Basic_Python_questions.ipynb\" target=\"_parent\"><img src=\"https://colab.research.google.com/assets/colab-badge.svg\" alt=\"Open In Colab\"/></a>"
      ]
    },
    {
      "cell_type": "markdown",
      "metadata": {
        "id": "yjhbG1NfTnhU",
        "colab_type": "text"
      },
      "source": [
        "# WAP to find area of a circle"
      ]
    },
    {
      "cell_type": "code",
      "metadata": {
        "id": "H5gW4rQ4TnhX",
        "colab_type": "code",
        "colab": {
          "base_uri": "https://localhost:8080/",
          "height": 51
        },
        "outputId": "2fdfad53-d60a-4d95-bf7c-c09cb2a2d217"
      },
      "source": [
        "from math import pi\n",
        "r=int(input(\"Enter the radius of the circle\"))\n",
        "ar=pi*r**2\n",
        "print(ar)"
      ],
      "execution_count": 1,
      "outputs": [
        {
          "output_type": "stream",
          "text": [
            "Enter the radius of the circle55\n",
            "9503.317777109125\n"
          ],
          "name": "stdout"
        }
      ]
    },
    {
      "cell_type": "markdown",
      "metadata": {
        "id": "n19656vHTnhj",
        "colab_type": "text"
      },
      "source": [
        "# WAP to find perimeter of a rectangle"
      ]
    },
    {
      "cell_type": "code",
      "metadata": {
        "id": "zCmgVYBVTnhl",
        "colab_type": "code",
        "colab": {
          "base_uri": "https://localhost:8080/",
          "height": 68
        },
        "outputId": "0b0675d1-653c-4d77-9efb-102d6cf2e790"
      },
      "source": [
        "length=int(input(\"Enter the length\"))\n",
        "breadth=int(input(\"Enter the breadth\"))\n",
        "primeter=2*length*breadth\n",
        "print(\"The perimeter oif the rectangle is {0}\".format(primeter))"
      ],
      "execution_count": 2,
      "outputs": [
        {
          "output_type": "stream",
          "text": [
            "Enter the length5\n",
            "Enter the breadth6\n",
            "The perimeter oif the rectangle is 60\n"
          ],
          "name": "stdout"
        }
      ]
    },
    {
      "cell_type": "markdown",
      "metadata": {
        "id": "GDX3w-r-Tnhr",
        "colab_type": "text"
      },
      "source": [
        "# WAP to find the Simple Interest and the total amount when the Principal, Rate of Interest and Time are entered by the user."
      ]
    },
    {
      "cell_type": "code",
      "metadata": {
        "id": "SeVtWtysTnhx",
        "colab_type": "code",
        "colab": {},
        "outputId": "d81c106e-ed7a-45ad-d995-17fbceaf0cbd"
      },
      "source": [
        "prncpl=eval(input(\"Enter the principle\"))\n",
        "rate=eval(input(\"Enter the rate of interest\"))\n",
        "time=eval(input(\"Enter the time\"))\n",
        "si=(prncpl*rate*time)/100\n",
        "print(\"The interest on the principle is {}\".format(si))"
      ],
      "execution_count": 0,
      "outputs": [
        {
          "output_type": "stream",
          "text": [
            "Enter the principle100\n",
            "Enter the rate of interest10\n",
            "Enter the time1\n",
            "The interest on the principle is 10.0\n"
          ],
          "name": "stdout"
        }
      ]
    },
    {
      "cell_type": "markdown",
      "metadata": {
        "id": "zRRT64McTnh1",
        "colab_type": "text"
      },
      "source": [
        "# WAP to convert ᵒC to ᵒF and ᵒF to ᵒC."
      ]
    },
    {
      "cell_type": "code",
      "metadata": {
        "id": "oxPMx6psTnh3",
        "colab_type": "code",
        "colab": {},
        "outputId": "9445b533-5e8d-4f97-b451-b3c906d4f005"
      },
      "source": [
        "x=(input(\"Enter the choice for conversion, C for celcius and F for farenheight\"))\n",
        "if x=='C':\n",
        "    f=eval(input(\"Enter the temperature in ^f\"))\n",
        "    cel=(f-32)*(5/9)\n",
        "    print(\"Value in celcius = {0:5.2f}\".format(cel))\n",
        "else:\n",
        "    \n",
        "    c=eval(input(\"Enter the temperature in ^celcius\"))\n",
        "    farn=(c*(9/5))+32\n",
        "    print(\"Value in faren = {0:5.2f}\".format(fn))\n"
      ],
      "execution_count": 0,
      "outputs": [
        {
          "output_type": "stream",
          "text": [
            "Enter the choice for conversion, C for celcius and F for farenheightC\n",
            "Enter the temperature in ^f97.6\n",
            "Value in celcius = 36.44\n"
          ],
          "name": "stdout"
        }
      ]
    },
    {
      "cell_type": "markdown",
      "metadata": {
        "id": "63F6PUteTnh8",
        "colab_type": "text"
      },
      "source": [
        "# WAP to find distance between two points."
      ]
    },
    {
      "cell_type": "code",
      "metadata": {
        "id": "-jGN-quBTnh9",
        "colab_type": "code",
        "colab": {},
        "outputId": "6837b4d1-bcb6-4c56-bb45-5bcc01c440f0"
      },
      "source": [
        "x1,x2,y1,y2 = eval(input('enter the value of x1,x2,y1,y2 '))\n",
        "d = ((x2-x1)**2+(y2-y1)**2)\n",
        "d = d**0.5\n",
        "print(\"Distance between points are {0:3.2}\".format(dist))"
      ],
      "execution_count": 0,
      "outputs": [
        {
          "output_type": "stream",
          "text": [
            "enter the value of x1,x2,y1,y2 5,4,3,2\n",
            "Distance between points are 1.4\n"
          ],
          "name": "stdout"
        }
      ]
    },
    {
      "cell_type": "markdown",
      "metadata": {
        "id": "Wf3vuiV9TniC",
        "colab_type": "text"
      },
      "source": [
        "# Write a program to find greatest of three numbers"
      ]
    },
    {
      "cell_type": "code",
      "metadata": {
        "id": "_T-g90UpTniE",
        "colab_type": "code",
        "colab": {},
        "outputId": "729d31ac-75de-4916-a0e5-7d341e9eed54"
      },
      "source": [
        "a,b,c = eval(input(\"Enter three numbers\"))\n",
        "if a > b and a > c:\n",
        "    print(\"{} is greatest\".format(a))\n",
        "elif b > a and b > c:\n",
        "    print(\"{} is greatest\".format(b))\n",
        "else:\n",
        "    print(\"{} is greatest\".format(c))"
      ],
      "execution_count": 0,
      "outputs": [
        {
          "output_type": "stream",
          "text": [
            "Enter three numbers5,10,15\n",
            "15 is greatest\n"
          ],
          "name": "stdout"
        }
      ]
    },
    {
      "cell_type": "markdown",
      "metadata": {
        "id": "r917Hnd6TniJ",
        "colab_type": "text"
      },
      "source": [
        "# Write a program to find whether a given number is even or not."
      ]
    },
    {
      "cell_type": "code",
      "metadata": {
        "id": "7y1w40OHTniK",
        "colab_type": "code",
        "colab": {},
        "outputId": "a0c6230d-f5e6-46b6-ed12-74fa2d0a1aef"
      },
      "source": [
        "x = int(input(\"Enter a number\"))\n",
        "if x%2 == 0:\n",
        "    print(\"Number is even\")\n",
        "else:\n",
        "    print(\"Number is odd\")"
      ],
      "execution_count": 0,
      "outputs": [
        {
          "output_type": "stream",
          "text": [
            "Enter a number75\n",
            "Number is odd\n"
          ],
          "name": "stdout"
        }
      ]
    },
    {
      "cell_type": "markdown",
      "metadata": {
        "id": "L9jsFEKjTniQ",
        "colab_type": "text"
      },
      "source": [
        "# Write a program to whether a given number is prime or not."
      ]
    },
    {
      "cell_type": "code",
      "metadata": {
        "id": "5iGGiSzTTniS",
        "colab_type": "code",
        "colab": {},
        "outputId": "0a8ff730-7d4e-4f6c-9efa-e37cae43d57a"
      },
      "source": [
        "x = int(input(\"Enter a number\"))\n",
        "c=0\n",
        "for i in range(2,x):\n",
        "    if x%i == 0:\n",
        "        print(\"Number is not prime\")\n",
        "        c=1   \n",
        "        break\n",
        "if c == 0:\n",
        "    print(\"Number is prime\")"
      ],
      "execution_count": 0,
      "outputs": [
        {
          "output_type": "stream",
          "text": [
            "Enter a number2\n",
            "Number is prime\n"
          ],
          "name": "stdout"
        }
      ]
    },
    {
      "cell_type": "markdown",
      "metadata": {
        "id": "-_4NBVsmTnic",
        "colab_type": "text"
      },
      "source": [
        "# Write a program to find whether a given string or number is palindrome or not"
      ]
    },
    {
      "cell_type": "code",
      "metadata": {
        "id": "wsgcXFMsTnie",
        "colab_type": "code",
        "colab": {},
        "outputId": "6a0e52f4-3769-4899-94bb-6e37e0b743af"
      },
      "source": [
        "x = input(\"Enter your choice for number or string, N for number and S for string \")\n",
        "if x == 'S':\n",
        "    s = input(\"Enter the string\")\n",
        "    if s == s[::-1]:\n",
        "        print(\"String is palindrome\")\n",
        "    else:\n",
        "        print(\"String is not palindrome\")\n",
        "else:\n",
        "    a = int(input(\"Enter the number\"))\n",
        "    n=0\n",
        "    c=a\n",
        "    while a>0:\n",
        "        b=a%10\n",
        "        n=n*10+b\n",
        "        a=a//10\n",
        "    if n==c:\n",
        "        print(\"Palindrome number\")\n",
        "    else:\n",
        "        print('Not a palindrome number')\n",
        "        "
      ],
      "execution_count": 0,
      "outputs": [
        {
          "output_type": "stream",
          "text": [
            "Enter your choice for number or string, N for number and S for stringN\n",
            "Enter the number121\n",
            "Palindrome number\n"
          ],
          "name": "stdout"
        }
      ]
    },
    {
      "cell_type": "markdown",
      "metadata": {
        "id": "8Sk5dDC9Tnij",
        "colab_type": "text"
      },
      "source": [
        "# Given 3 sides, WAP to find whether a given triangle is right angled or not."
      ]
    },
    {
      "cell_type": "code",
      "metadata": {
        "id": "6Z68rktuTnik",
        "colab_type": "code",
        "colab": {},
        "outputId": "2492ff26-af7a-4d67-e9e9-8c2f88ced8ea"
      },
      "source": [
        "b,p,h = eval(input(\"Enter the value in order of base,perpendicular,hypotaneus\"))\n",
        "if h**2 == (b**2) + (p**2):\n",
        "    print(\"Right angled triangle\")\n",
        "else:\n",
        "    print(\"Not a right angled triangle\")\n",
        "\n"
      ],
      "execution_count": 0,
      "outputs": [
        {
          "output_type": "stream",
          "text": [
            "Enter the value in order of base,perpendicular,hypotaneus3,4,5\n",
            "Right angled triangle\n"
          ],
          "name": "stdout"
        }
      ]
    },
    {
      "cell_type": "code",
      "metadata": {
        "id": "w2D62jVKTnip",
        "colab_type": "code",
        "colab": {}
      },
      "source": [
        ""
      ],
      "execution_count": 0,
      "outputs": []
    }
  ]
}