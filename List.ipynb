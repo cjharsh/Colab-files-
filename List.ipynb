{
  "nbformat": 4,
  "nbformat_minor": 0,
  "metadata": {
    "colab": {
      "name": "List.ipynb",
      "version": "0.3.2",
      "provenance": [],
      "include_colab_link": true
    },
    "kernelspec": {
      "name": "python3",
      "display_name": "Python 3"
    }
  },
  "cells": [
    {
      "cell_type": "markdown",
      "metadata": {
        "id": "view-in-github",
        "colab_type": "text"
      },
      "source": [
        "<a href=\"https://colab.research.google.com/github/cjharsh/Colab-files-/blob/master/List.ipynb\" target=\"_parent\"><img src=\"https://colab.research.google.com/assets/colab-badge.svg\" alt=\"Open In Colab\"/></a>"
      ]
    },
    {
      "cell_type": "markdown",
      "metadata": {
        "id": "4d14VJzynMkZ",
        "colab_type": "text"
      },
      "source": [
        "List and its functions along with some programms"
      ]
    },
    {
      "cell_type": "code",
      "metadata": {
        "id": "ZcEKO0xySOiI",
        "colab_type": "code",
        "outputId": "03f15e46-339b-4504-f025-74054ae8d9c1",
        "colab": {
          "base_uri": "https://localhost:8080/",
          "height": 85
        }
      },
      "source": [
        "a = [1,2,3,4]\n",
        "b = a\n",
        "print(id(a))\n",
        "print(id(b))\n",
        "b.append(6)\n",
        "print(id(b))\n",
        "print(a)"
      ],
      "execution_count": 1,
      "outputs": [
        {
          "output_type": "stream",
          "text": [
            "139820031099720\n",
            "139820031099720\n",
            "139820031099720\n",
            "[1, 2, 3, 4, 6]\n"
          ],
          "name": "stdout"
        }
      ]
    },
    {
      "cell_type": "code",
      "metadata": {
        "id": "HSkeNNAfSSfc",
        "colab_type": "code",
        "colab": {
          "base_uri": "https://localhost:8080/",
          "height": 34
        },
        "outputId": "1e3fa9de-6169-4bde-9a1c-cbca77a65cca"
      },
      "source": [
        "a = [[5,4]]\n",
        "b = a*2\n",
        "b"
      ],
      "execution_count": 2,
      "outputs": [
        {
          "output_type": "execute_result",
          "data": {
            "text/plain": [
              "[[5, 4], [5, 4]]"
            ]
          },
          "metadata": {
            "tags": []
          },
          "execution_count": 2
        }
      ]
    },
    {
      "cell_type": "code",
      "metadata": {
        "id": "5_XFgMO3TYYQ",
        "colab_type": "code",
        "colab": {
          "base_uri": "https://localhost:8080/",
          "height": 34
        },
        "outputId": "65c3367d-5c8a-4d6b-e937-34b189fe0faf"
      },
      "source": [
        "b[0][0] = 6\n",
        "b"
      ],
      "execution_count": 3,
      "outputs": [
        {
          "output_type": "execute_result",
          "data": {
            "text/plain": [
              "[[6, 4], [6, 4]]"
            ]
          },
          "metadata": {
            "tags": []
          },
          "execution_count": 3
        }
      ]
    },
    {
      "cell_type": "code",
      "metadata": {
        "id": "ppN6QqcsTdU4",
        "colab_type": "code",
        "colab": {
          "base_uri": "https://localhost:8080/",
          "height": 204
        },
        "outputId": "96d0880a-1ab6-49da-cbcc-a08ff75a68db"
      },
      "source": [
        "h = [1,'hello',range(10),int]\n",
        "for i in h[2]:\n",
        "  print(i)\n",
        "k = '12'\n",
        "print(h[-1](k))\n"
      ],
      "execution_count": 4,
      "outputs": [
        {
          "output_type": "stream",
          "text": [
            "0\n",
            "1\n",
            "2\n",
            "3\n",
            "4\n",
            "5\n",
            "6\n",
            "7\n",
            "8\n",
            "9\n",
            "12\n"
          ],
          "name": "stdout"
        }
      ]
    },
    {
      "cell_type": "markdown",
      "metadata": {
        "id": "92N41ynKX-Jt",
        "colab_type": "text"
      },
      "source": [
        "1. list.append(obj)\n",
        "2. list.count(obj)\n",
        "3. list.extend(obj)\n",
        "4. list.index(obj)\n",
        "5. list.insert(index, obj)"
      ]
    },
    {
      "cell_type": "markdown",
      "metadata": {
        "id": "ZEXBKkfJYmiI",
        "colab_type": "text"
      },
      "source": [
        "\n",
        "\n",
        "1.   list.pop(obj=list[-1])\n",
        "2.   list.remove(obj)\n",
        "3.   list.reverse()\n",
        "4.   list.sort([func])\n",
        "\n"
      ]
    },
    {
      "cell_type": "code",
      "metadata": {
        "id": "oyoI4Do2cYYX",
        "colab_type": "code",
        "colab": {
          "base_uri": "https://localhost:8080/",
          "height": 34
        },
        "outputId": "3dce17c1-a169-4307-ecea-54142bd0265e"
      },
      "source": [
        "a = \"abcd\"\n",
        "type(a) == str"
      ],
      "execution_count": 6,
      "outputs": [
        {
          "output_type": "execute_result",
          "data": {
            "text/plain": [
              "True"
            ]
          },
          "metadata": {
            "tags": []
          },
          "execution_count": 6
        }
      ]
    },
    {
      "cell_type": "code",
      "metadata": {
        "id": "OhQg3XVZT-UB",
        "colab_type": "code",
        "colab": {
          "base_uri": "https://localhost:8080/",
          "height": 68
        },
        "outputId": "056dcf56-f6f9-43fd-d04e-a860c7cf965a"
      },
      "source": [
        "data = [1,2,3,4,5,6,7,8,9,6,7,'hello','ravi']\n",
        "even = []\n",
        "odd = []\n",
        "string = []\n",
        "for i in data:\n",
        "    if type(i) == str:\n",
        "        string.append(i)\n",
        "    if type(i) == int:\n",
        "        if i%2 == 0:\n",
        "            even.append(i)\n",
        "        else:\n",
        "            odd.append(i)\n",
        "print(even)\n",
        "print(odd)\n",
        "print(string)"
      ],
      "execution_count": 8,
      "outputs": [
        {
          "output_type": "stream",
          "text": [
            "[2, 4, 6, 8, 6]\n",
            "[1, 3, 5, 7, 9, 7]\n",
            "['hello', 'ravi']\n"
          ],
          "name": "stdout"
        }
      ]
    },
    {
      "cell_type": "code",
      "metadata": {
        "id": "cUFrjts9daOI",
        "colab_type": "code",
        "colab": {
          "base_uri": "https://localhost:8080/",
          "height": 34
        },
        "outputId": "0024bd0f-e421-443b-8556-0cca2f3594aa"
      },
      "source": [
        "name = ['ravi','hritik','shantaNu','yash','rAvi','shantanu','bHarat','bharat']\n",
        "mdata = eval(str(name).upper())\n",
        "mdata\n"
      ],
      "execution_count": 35,
      "outputs": [
        {
          "output_type": "execute_result",
          "data": {
            "text/plain": [
              "['RAVI', 'HRITIK', 'SHANTANU', 'YASH', 'RAVI', 'SHANTANU', 'BHARAT', 'BHARAT']"
            ]
          },
          "metadata": {
            "tags": []
          },
          "execution_count": 35
        }
      ]
    },
    {
      "cell_type": "markdown",
      "metadata": {
        "id": "fLkg1cJHlhwD",
        "colab_type": "text"
      },
      "source": [
        ""
      ]
    },
    {
      "cell_type": "code",
      "metadata": {
        "id": "umKwkpSJhivO",
        "colab_type": "code",
        "colab": {
          "base_uri": "https://localhost:8080/",
          "height": 102
        },
        "outputId": "76f32064-463f-4462-dcc0-c5b766f2ad73"
      },
      "source": [
        "temp = []\n",
        "for i in mdata:\n",
        "  \n",
        "  if i in temp:\n",
        "    pass\n",
        "  else:\n",
        "    print(i,mdata.count(i))\n",
        "    temp.append(i)"
      ],
      "execution_count": 36,
      "outputs": [
        {
          "output_type": "stream",
          "text": [
            "RAVI 2\n",
            "HRITIK 1\n",
            "SHANTANU 2\n",
            "YASH 1\n",
            "BHARAT 2\n"
          ],
          "name": "stdout"
        }
      ]
    },
    {
      "cell_type": "code",
      "metadata": {
        "id": "8pyHC1_1hGDa",
        "colab_type": "code",
        "colab": {
          "base_uri": "https://localhost:8080/",
          "height": 34
        },
        "outputId": "f59a0b8e-703c-404c-8e16-2c5d876e0bc5"
      },
      "source": [
        "sd = [[1,2]]*3\n",
        "sd = str(sd)\n",
        "sd = eval(sd)\n",
        "sd"
      ],
      "execution_count": 41,
      "outputs": [
        {
          "output_type": "execute_result",
          "data": {
            "text/plain": [
              "[[1, 2], [1, 2], [1, 2]]"
            ]
          },
          "metadata": {
            "tags": []
          },
          "execution_count": 41
        }
      ]
    },
    {
      "cell_type": "code",
      "metadata": {
        "id": "Xet_yBfNhGrp",
        "colab_type": "code",
        "colab": {
          "base_uri": "https://localhost:8080/",
          "height": 34
        },
        "outputId": "57af56f3-fd7c-4711-f70d-ef26bb194b79"
      },
      "source": [
        "sd[0][0] = 6\n",
        "sd"
      ],
      "execution_count": 42,
      "outputs": [
        {
          "output_type": "execute_result",
          "data": {
            "text/plain": [
              "[[6, 2], [1, 2], [1, 2]]"
            ]
          },
          "metadata": {
            "tags": []
          },
          "execution_count": 42
        }
      ]
    },
    {
      "cell_type": "code",
      "metadata": {
        "id": "6seDoBZfpR5d",
        "colab_type": "code",
        "colab": {}
      },
      "source": [
        ""
      ],
      "execution_count": 0,
      "outputs": []
    }
  ]
}