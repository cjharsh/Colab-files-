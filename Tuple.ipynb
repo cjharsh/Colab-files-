{
  "nbformat": 4,
  "nbformat_minor": 0,
  "metadata": {
    "kernelspec": {
      "display_name": "Python 3",
      "language": "python",
      "name": "python3"
    },
    "language_info": {
      "codemirror_mode": {
        "name": "ipython",
        "version": 3
      },
      "file_extension": ".py",
      "mimetype": "text/x-python",
      "name": "python",
      "nbconvert_exporter": "python",
      "pygments_lexer": "ipython3",
      "version": "3.6.0"
    },
    "colab": {
      "name": "Tuple.ipynb",
      "provenance": [],
      "include_colab_link": true
    }
  },
  "cells": [
    {
      "cell_type": "markdown",
      "metadata": {
        "id": "view-in-github",
        "colab_type": "text"
      },
      "source": [
        "<a href=\"https://colab.research.google.com/github/cjharsh/Colab-files-/blob/master/Tuple.ipynb\" target=\"_parent\"><img src=\"https://colab.research.google.com/assets/colab-badge.svg\" alt=\"Open In Colab\"/></a>"
      ]
    },
    {
      "cell_type": "markdown",
      "metadata": {
        "id": "wvGxe41nj4b1",
        "colab_type": "text"
      },
      "source": [
        "# **This notebook has some basic information and programms about tuples and their properties.**"
      ]
    },
    {
      "cell_type": "code",
      "metadata": {
        "id": "nMbusyEyj2jV",
        "colab_type": "code",
        "colab": {},
        "outputId": "db027b64-f117-4cf8-cf3e-a383a57ffc95"
      },
      "source": [
        "#list\n",
        "a = [1,2,3]\n",
        "print(id(a))\n",
        "a += [6,7] #id does not change in case of mutable\n",
        "print(id(a))\n",
        "a = a + [8,9] #id gets changed\n",
        "print(id(a))\n",
        "a.extend([12,11,23]) #id doesn't change for extend and append\n",
        "print(id(a))"
      ],
      "execution_count": 0,
      "outputs": [
        {
          "output_type": "stream",
          "text": [
            "2390134137352\n",
            "2390134137352\n",
            "2390133841864\n",
            "2390133841864\n"
          ],
          "name": "stdout"
        }
      ]
    },
    {
      "cell_type": "code",
      "metadata": {
        "id": "bq5TB5I-j2je",
        "colab_type": "code",
        "colab": {},
        "outputId": "b46b05b9-0baa-40e6-cf56-36daa4ab7139"
      },
      "source": [
        "#tuple\n",
        "#tuples are fixed object values, immutable\n",
        "b  = (1,5,6)\n",
        "print(id(b))\n",
        "b += (3,3) #id gets changed in case of immutable\n",
        "print(id(b))\n",
        "b = b + (7,8) #id gets changed\n",
        "print(id(b))"
      ],
      "execution_count": 0,
      "outputs": [
        {
          "output_type": "stream",
          "text": [
            "2390133379144\n",
            "2390132189936\n",
            "2390132139720\n"
          ],
          "name": "stdout"
        }
      ]
    },
    {
      "cell_type": "code",
      "metadata": {
        "id": "Cf5pnUG-j2jj",
        "colab_type": "code",
        "colab": {},
        "outputId": "31926a1e-e264-4608-a024-6491e5608194"
      },
      "source": [
        "#unpack data always forms tuple\n",
        "e = (3)\n",
        "print(type(e))\n",
        "b = (3,)\n",
        "print(type(b))\n",
        "c = 5,\n",
        "print(type(c))\n",
        "d = tuple([5,5])\n",
        "print(d,type(d))\n",
        "print(tuple(),type(tuple()))"
      ],
      "execution_count": 0,
      "outputs": [
        {
          "output_type": "stream",
          "text": [
            "<class 'int'>\n",
            "<class 'tuple'>\n",
            "<class 'tuple'>\n",
            "(5, 5) <class 'tuple'>\n",
            "() <class 'tuple'>\n"
          ],
          "name": "stdout"
        }
      ]
    },
    {
      "cell_type": "code",
      "metadata": {
        "id": "-QrffXwEj2jn",
        "colab_type": "code",
        "colab": {},
        "outputId": "5bc27576-3223-4e3e-94e4-9facae747e23"
      },
      "source": [
        "b = b + (1,6,8,7)\n",
        "print(b)"
      ],
      "execution_count": 0,
      "outputs": [
        {
          "output_type": "stream",
          "text": [
            "(3, 1, 6, 8, 7, 1, 6, 8, 7)\n"
          ],
          "name": "stdout"
        }
      ]
    },
    {
      "cell_type": "code",
      "metadata": {
        "id": "m2bNufRuj2js",
        "colab_type": "code",
        "colab": {},
        "outputId": "bcad48c6-62e6-4b00-9517-48be2ce0fcda"
      },
      "source": [
        "print(b[1:3])"
      ],
      "execution_count": 0,
      "outputs": [
        {
          "output_type": "stream",
          "text": [
            "(1, 6)\n"
          ],
          "name": "stdout"
        }
      ]
    },
    {
      "cell_type": "code",
      "metadata": {
        "id": "YSUc3hcwj2jw",
        "colab_type": "code",
        "colab": {},
        "outputId": "b8da3f0e-dfeb-4d6f-9001-f3e878504eaf"
      },
      "source": [
        "t = (1,[1],0,4)\n",
        "t[1][0] = 'one'\n",
        "print(t)"
      ],
      "execution_count": 0,
      "outputs": [
        {
          "output_type": "stream",
          "text": [
            "(1, ['one'], 0, 4)\n"
          ],
          "name": "stdout"
        }
      ]
    },
    {
      "cell_type": "code",
      "metadata": {
        "id": "wrQcaBRJj2j1",
        "colab_type": "code",
        "colab": {},
        "outputId": "29ea561f-da23-4acc-974e-2a875ee28fea"
      },
      "source": [
        "fruits = (\"apple\",\"banana\",\"cherry\",\"apple\")\n",
        "print(len(fruits))"
      ],
      "execution_count": 0,
      "outputs": [
        {
          "output_type": "stream",
          "text": [
            "4\n"
          ],
          "name": "stdout"
        }
      ]
    },
    {
      "cell_type": "code",
      "metadata": {
        "id": "FhG7HL-Gj2j5",
        "colab_type": "code",
        "colab": {},
        "outputId": "0f4678a4-63fe-4634-f837-175ef67da84a"
      },
      "source": [
        "t = (10,2,40,6,7)\n",
        "l = sorted(t)\n",
        "print(l,type(l))"
      ],
      "execution_count": 0,
      "outputs": [
        {
          "output_type": "stream",
          "text": [
            "[2, 6, 7, 10, 40] <class 'list'>\n"
          ],
          "name": "stdout"
        }
      ]
    },
    {
      "cell_type": "code",
      "metadata": {
        "id": "JlKnFwfqj2j-",
        "colab_type": "code",
        "colab": {},
        "outputId": "0adef2b8-06dc-46da-b336-b9a44684c06a"
      },
      "source": [
        "t = (10,2,40,6,7)\n",
        "10 in t"
      ],
      "execution_count": 0,
      "outputs": [
        {
          "output_type": "execute_result",
          "data": {
            "text/plain": [
              "True"
            ]
          },
          "metadata": {
            "tags": []
          },
          "execution_count": 4
        }
      ]
    },
    {
      "cell_type": "code",
      "metadata": {
        "id": "Egb52tv8j2kD",
        "colab_type": "code",
        "colab": {}
      },
      "source": [
        "c = (i*i for i in t)"
      ],
      "execution_count": 0,
      "outputs": []
    },
    {
      "cell_type": "code",
      "metadata": {
        "id": "NJdbqyG1j2kI",
        "colab_type": "code",
        "colab": {},
        "outputId": "2b673a21-ad83-4fbe-da11-a775f6ece4c4"
      },
      "source": [
        "print(c,type(c))\n",
        "print(next(c))"
      ],
      "execution_count": 0,
      "outputs": [
        {
          "output_type": "stream",
          "text": [
            "<generator object <genexpr> at 0x0000014CC752EEB8> <class 'generator'>\n",
            "1600\n"
          ],
          "name": "stdout"
        }
      ]
    },
    {
      "cell_type": "code",
      "metadata": {
        "id": "HNSowmUNj2kM",
        "colab_type": "code",
        "colab": {},
        "outputId": "f8928738-eba8-40b8-fa81-68f1d203ae69"
      },
      "source": [
        "t = (10,2,4,40,4,12,15)\n",
        "t = (i*i for i in t)\n",
        "for i in t:\n",
        "    b = next(t)\n",
        "    print(i)\n",
        "    print(b)  \n",
        "    b = next(t)\n",
        "    print(i)\n",
        "    print(b)\n",
        "#print(next(t)) error"
      ],
      "execution_count": 0,
      "outputs": [
        {
          "output_type": "stream",
          "text": [
            "100\n",
            "4\n",
            "100\n",
            "16\n",
            "1600\n",
            "16\n",
            "1600\n",
            "144\n"
          ],
          "name": "stdout"
        },
        {
          "output_type": "error",
          "ename": "StopIteration",
          "evalue": "",
          "traceback": [
            "\u001b[1;31m---------------------------------------------------------------------------\u001b[0m",
            "\u001b[1;31mStopIteration\u001b[0m                             Traceback (most recent call last)",
            "\u001b[1;32m<ipython-input-23-0ec3c439cc81>\u001b[0m in \u001b[0;36m<module>\u001b[1;34m\u001b[0m\n\u001b[0;32m      2\u001b[0m \u001b[0mt\u001b[0m \u001b[1;33m=\u001b[0m \u001b[1;33m(\u001b[0m\u001b[0mi\u001b[0m\u001b[1;33m*\u001b[0m\u001b[0mi\u001b[0m \u001b[1;32mfor\u001b[0m \u001b[0mi\u001b[0m \u001b[1;32min\u001b[0m \u001b[0mt\u001b[0m\u001b[1;33m)\u001b[0m\u001b[1;33m\u001b[0m\u001b[0m\n\u001b[0;32m      3\u001b[0m \u001b[1;32mfor\u001b[0m \u001b[0mi\u001b[0m \u001b[1;32min\u001b[0m \u001b[0mt\u001b[0m\u001b[1;33m:\u001b[0m\u001b[1;33m\u001b[0m\u001b[0m\n\u001b[1;32m----> 4\u001b[1;33m     \u001b[0mb\u001b[0m \u001b[1;33m=\u001b[0m \u001b[0mnext\u001b[0m\u001b[1;33m(\u001b[0m\u001b[0mt\u001b[0m\u001b[1;33m)\u001b[0m\u001b[1;33m\u001b[0m\u001b[0m\n\u001b[0m\u001b[0;32m      5\u001b[0m     \u001b[0mprint\u001b[0m\u001b[1;33m(\u001b[0m\u001b[0mi\u001b[0m\u001b[1;33m)\u001b[0m\u001b[1;33m\u001b[0m\u001b[0m\n\u001b[0;32m      6\u001b[0m     \u001b[0mprint\u001b[0m\u001b[1;33m(\u001b[0m\u001b[0mb\u001b[0m\u001b[1;33m)\u001b[0m\u001b[1;33m\u001b[0m\u001b[0m\n",
            "\u001b[1;31mStopIteration\u001b[0m: "
          ]
        }
      ]
    },
    {
      "cell_type": "code",
      "metadata": {
        "id": "vcb_xRWCj2kQ",
        "colab_type": "code",
        "colab": {
          "base_uri": "https://localhost:8080/",
          "height": 34
        },
        "outputId": "f7120a69-5194-41db-f5ea-c33a423cd33d"
      },
      "source": [
        "#Write a python program to create a tuple with numbers and print one item\n",
        "#sol\n",
        "num = (4,5,6,1,2,3,7,8,9)\n",
        "print(num[0])"
      ],
      "execution_count": 2,
      "outputs": [
        {
          "output_type": "stream",
          "text": [
            "4\n"
          ],
          "name": "stdout"
        }
      ]
    },
    {
      "cell_type": "code",
      "metadata": {
        "id": "SEMMURNpj2kU",
        "colab_type": "code",
        "colab": {
          "base_uri": "https://localhost:8080/",
          "height": 34
        },
        "outputId": "6625671b-84f8-42d6-c3f8-1f59609bdc06"
      },
      "source": [
        "#Write a program to unpack a tuple in a several variable\n",
        "s = num[0:4]\n",
        "a,b,c,d = s\n",
        "a"
      ],
      "execution_count": 3,
      "outputs": [
        {
          "output_type": "execute_result",
          "data": {
            "text/plain": [
              "4"
            ]
          },
          "metadata": {
            "tags": []
          },
          "execution_count": 3
        }
      ]
    },
    {
      "cell_type": "code",
      "metadata": {
        "id": "Jo9Xfnaoj2kZ",
        "colab_type": "code",
        "colab": {
          "base_uri": "https://localhost:8080/",
          "height": 34
        },
        "outputId": "884603f0-57a0-439f-8c96-4f1905f462dd"
      },
      "source": [
        "#Write a program to add an item in a tuple\n",
        "T = ()\n",
        "T = T + (input(),)"
      ],
      "execution_count": 4,
      "outputs": [
        {
          "output_type": "stream",
          "text": [
            "56\n"
          ],
          "name": "stdout"
        }
      ]
    },
    {
      "cell_type": "code",
      "metadata": {
        "id": "ba4voAUNj2kd",
        "colab_type": "code",
        "colab": {
          "base_uri": "https://localhost:8080/",
          "height": 51
        },
        "outputId": "86dd2c3a-2861-46c4-93a4-2208c0b69fe7"
      },
      "source": [
        "#Write a program to convert a tuple to a string\n",
        "Tstring = str(num)\n",
        "print(Tstring,type(Tstring))\n",
        "#another way\n",
        "tstring = \"\"\n",
        "for i in num:\n",
        "    tstring = tstring + str(i)\n",
        "print(tstring,type(tstring))"
      ],
      "execution_count": 5,
      "outputs": [
        {
          "output_type": "stream",
          "text": [
            "(4, 5, 6, 1, 2, 3, 7, 8, 9) <class 'str'>\n",
            "456123789 <class 'str'>\n"
          ],
          "name": "stdout"
        }
      ]
    },
    {
      "cell_type": "code",
      "metadata": {
        "id": "tpwE6wB-j2ki",
        "colab_type": "code",
        "colab": {
          "base_uri": "https://localhost:8080/",
          "height": 34
        },
        "outputId": "2ed53a74-e020-48ca-93a0-264a63da3274"
      },
      "source": [
        "if a in num:\n",
        "  print(\"Exist\")\n",
        "else:\n",
        "  print(\"Does not exists\")"
      ],
      "execution_count": 8,
      "outputs": [
        {
          "output_type": "stream",
          "text": [
            "Exist\n"
          ],
          "name": "stdout"
        }
      ]
    },
    {
      "cell_type": "code",
      "metadata": {
        "id": "ne5q_rXaj2ko",
        "colab_type": "code",
        "colab": {
          "base_uri": "https://localhost:8080/",
          "height": 85
        },
        "outputId": "ea74b7db-ab4b-4f60-88f5-d5e7b7501d65"
      },
      "source": [
        "#count number of occurence of each item \n",
        "new_t = (2,4,3,2,2,4,3,8,8,4,6)\n",
        "set_s = set(new_t)\n",
        "\n",
        "for i in set_s:\n",
        "  tt =  new_t.count(i)\n",
        "  if tt > 1:\n",
        "    print(i,\"-->\",tt)"
      ],
      "execution_count": 11,
      "outputs": [
        {
          "output_type": "stream",
          "text": [
            "2 --> 3\n",
            "3 --> 2\n",
            "4 --> 3\n",
            "8 --> 2\n"
          ],
          "name": "stdout"
        }
      ]
    },
    {
      "cell_type": "code",
      "metadata": {
        "id": "GUb55caGluzP",
        "colab_type": "code",
        "colab": {
          "base_uri": "https://localhost:8080/",
          "height": 34
        },
        "outputId": "13141309-2a5b-4ddd-d424-84556cfeebf9"
      },
      "source": [
        "#convert a list into tuple\n",
        "l = [1,2,4,5,2,4,7,8,3]\n",
        "list_tup = tuple(l)\n",
        "print(list_tup,type(list_tup))"
      ],
      "execution_count": 12,
      "outputs": [
        {
          "output_type": "stream",
          "text": [
            "(1, 2, 4, 5, 2, 4, 7, 8, 3) <class 'tuple'>\n"
          ],
          "name": "stdout"
        }
      ]
    },
    {
      "cell_type": "code",
      "metadata": {
        "id": "t5JCiM3omS06",
        "colab_type": "code",
        "colab": {
          "base_uri": "https://localhost:8080/",
          "height": 51
        },
        "outputId": "cb6eda85-98ae-4dba-ac87-79ec37f7e04f"
      },
      "source": [
        "#remove an item from a tuple\n",
        "ltup = list(list_tup) #converted the tuple to list\n",
        "x  = int(input())\n",
        "ltup.remove(x)\n",
        "list_tup = tuple(ltup)\n",
        "print(list_tup)\n",
        "#to remove all the instances of given item, count its occurence and use remove that many times."
      ],
      "execution_count": 13,
      "outputs": [
        {
          "output_type": "stream",
          "text": [
            "4\n",
            "(1, 2, 5, 2, 4, 7, 8, 3)\n"
          ],
          "name": "stdout"
        }
      ]
    },
    {
      "cell_type": "code",
      "metadata": {
        "id": "tsP0vVnInW9w",
        "colab_type": "code",
        "colab": {
          "base_uri": "https://localhost:8080/",
          "height": 34
        },
        "outputId": "5304580a-7735-40e8-baf7-2da8ecf2380e"
      },
      "source": [
        "list_tup"
      ],
      "execution_count": 19,
      "outputs": [
        {
          "output_type": "execute_result",
          "data": {
            "text/plain": [
              "(1, 2, 5, 2, 4, 7, 8, 3)"
            ]
          },
          "metadata": {
            "tags": []
          },
          "execution_count": 19
        }
      ]
    },
    {
      "cell_type": "code",
      "metadata": {
        "id": "EKMcytminqmO",
        "colab_type": "code",
        "colab": {
          "base_uri": "https://localhost:8080/",
          "height": 51
        },
        "outputId": "856a7b9b-087b-4f23-a384-d74e15340c5d"
      },
      "source": [
        "item  = int(input())\n",
        "d =list_tup.index(item)\n",
        "print(d)"
      ],
      "execution_count": 20,
      "outputs": [
        {
          "output_type": "stream",
          "text": [
            "2\n",
            "1\n"
          ],
          "name": "stdout"
        }
      ]
    },
    {
      "cell_type": "code",
      "metadata": {
        "id": "zk1a0Pb7p1az",
        "colab_type": "code",
        "colab": {
          "base_uri": "https://localhost:8080/",
          "height": 34
        },
        "outputId": "eff30799-6e45-4a0e-8809-38024269ca3c"
      },
      "source": [
        "h = [2,4,65]\n",
        "k = [3,6,4]\n",
        "d = list(zip(h,k))\n",
        "print(d)"
      ],
      "execution_count": 21,
      "outputs": [
        {
          "output_type": "stream",
          "text": [
            "[(2, 3), (4, 6), (65, 4)]\n"
          ],
          "name": "stdout"
        }
      ]
    },
    {
      "cell_type": "code",
      "metadata": {
        "id": "rhgV7A2WsErS",
        "colab_type": "code",
        "colab": {
          "base_uri": "https://localhost:8080/",
          "height": 51
        },
        "outputId": "00537008-e9cd-4cb0-b1c9-a5e2e2b7f958"
      },
      "source": [
        "#Write a program to unzip a list of tuples into individual lists.\n",
        "l1 = []\n",
        "l2 = []\n",
        "for i,j in d:\n",
        "  l1.append(i)\n",
        "  l2.append(j)\n",
        "print(l1)\n",
        "print(l2)\n",
        "\n"
      ],
      "execution_count": 22,
      "outputs": [
        {
          "output_type": "stream",
          "text": [
            "[2, 4, 65]\n",
            "[3, 6, 4]\n"
          ],
          "name": "stdout"
        }
      ]
    },
    {
      "cell_type": "code",
      "metadata": {
        "id": "POMDlCwGt4yY",
        "colab_type": "code",
        "colab": {
          "base_uri": "https://localhost:8080/",
          "height": 34
        },
        "outputId": "0e4349f3-b45d-4bdd-f30b-7f5914d224d1"
      },
      "source": [
        "g = 'this is tuple {}'.format(list_tup)\n",
        "print(g)"
      ],
      "execution_count": 24,
      "outputs": [
        {
          "output_type": "stream",
          "text": [
            "this is tuple (1, 2, 5, 2, 4, 7, 8, 3)\n"
          ],
          "name": "stdout"
        }
      ]
    },
    {
      "cell_type": "code",
      "metadata": {
        "id": "OT1r2BFuvACm",
        "colab_type": "code",
        "colab": {
          "base_uri": "https://localhost:8080/",
          "height": 34
        },
        "outputId": "f4b64e2b-e7e0-49dd-e95b-8c9febc6e144"
      },
      "source": [
        "lis = [(4,5,6),(),(7,8),()]\n",
        "for i in lis:\n",
        "  if i == ():\n",
        "    lis.remove(i)\n",
        "print(lis)\n"
      ],
      "execution_count": 25,
      "outputs": [
        {
          "output_type": "stream",
          "text": [
            "[(4, 5, 6), (7, 8)]\n"
          ],
          "name": "stdout"
        }
      ]
    },
    {
      "cell_type": "code",
      "metadata": {
        "id": "OE_6hXcFwFfb",
        "colab_type": "code",
        "colab": {}
      },
      "source": [
        ""
      ],
      "execution_count": 0,
      "outputs": []
    }
  ]
}